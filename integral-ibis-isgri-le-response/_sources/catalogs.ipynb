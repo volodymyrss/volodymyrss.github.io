{
 "cells": [
  {
   "cell_type": "markdown",
   "metadata": {},
   "source": [
    "# Catalogs in IBIS/ISGRI"
   ]
  },
  {
   "cell_type": "markdown",
   "metadata": {},
   "source": [
    "ISGRI spectral and lightcurve extraction uses a `isgri_srcl_res.fits` catalog result.\n",
    "The nominal way to get the `isgri_srcl_res.fits` is by running the mosaic (see the [User Guide](https://www.isdc.unige.ch/integral/)). Of course, it is possible to fudge any other catalog in the necessary format (this is done in [MMODA](https://www.astro.unige.ch/mmoda/) when a catalog is generated from json provided by frontend or API), but this fudging is not naturally supported by `OSA` and should be done with a lot of care.\n",
    "\n",
    "**The reason why the mosaic is need before spectrum** in standard user workflow in OSA is because the spectral extraction quality depends strongly on the catalog - the sky model used for deconstructing the shadowgram. With a wrong catalog, unaccounted source counts will be misattributed to other sources (distorting them) and to background. Due to wide PSFs, sources in some positions overlap substantially. \n",
    "\n",
    "Larger part of this note quantifies this effect of \"cross-talk\" between source counts. Specifically, we will show flux of anysource-of-interest (`SOI`) is modified by unaccounted source flux typically by a fraction of the source count rate, depending on position of both sources. \n",
    "\n",
    "## MURA Mask\n",
    "\n",
    "ISGRI mask has `MURA` pattern (see [doc](https://www.isdc.unige.ch/integral/download/osa/doc/11.2/osa_um_ibis.pdf) and [paper](https://arxiv.org/pdf/astro-ph/0311172.pdf)), whos cyclic autocorrelation is a $\\delta$ function. This does not mean, however, that PSF is a $\\delta$ function, as it is modified by a several effects. Most of all, within a limited FoV, the auto-correlation develops side-peaks and other symmetric features (they appear as \"ghosts\"). The FoV is effectively further modified by uneven detector efficiency in FoV.\n",
    "\n",
    "```{note}\n",
    "Notably, Swift/BAT and even SVON/ECLAIR do not use MURA mask, and opt for a quasi-random pattern. It may be argued what is actually better: compressing the systematic noise in well-understood regions of data space, or spreading in quasi-randomly. \n",
    "\n",
    "Consider how GW detectors compress the noise in resonances, improving the sensitivity elsewhere. \n",
    "\n",
    "Clearly, if the location and properties of the regions where the noise is concentrated is poorly understood, the complication is reconstructed.\n",
    "\n",
    "Another difficulty is that concentrated noise makes some regions largely unaccessible to scientific analysis. If the regions can be moved in different observations, this challenge can be alleviated - this is done in INTEGRAL.\n",
    "```\n",
    "\n",
    "One on of the consequences of MURA pattern is that on-axis source is not strongly modified by unaccounted source flux, except if the source is in the PSF side-lobes, which do not occupy large area. So even if at the main PSF side-peak, the contaminating count rate is about 50% of the source, the chance of this event is not large. However, since the PSF orientation depends on the pointing orientation, the PSF overlap occurs very often, resulting in modest average effect.\n",
    "\n",
    "```{figure} catalog-study/I0_J0_C100_Cm100_B1000.png\n",
    ":height: 400px\n",
    ":name: figure-example\n",
    "\n",
    "On-axis 100cps source contaminated by unaccounted 100cps source in different locations. 80 pixels per 15 deg.\n",
    "```\n",
    "\n",
    "\n",
    "```{figure} catalog-study/I40_J40_C100_Cm100_B1000.png\n",
    ":height: 400px\n",
    ":name: figure-example\n",
    "\n",
    "Somewhat off-axis (7,7 deg) 100cps source contaminated by unaccounted 100cps source in different locations.\n",
    "```\n",
    "\n",
    "\n",
    "\n",
    "```{note}\n",
    "Note that in spectral/lightcurve extraction the contamination is not the same as in imaging. Imaging uses iterative process, leading to different distribution of fluxes between correlated sources depending on both source count rate and significance. Spectral/lightcurve countrates produce more accurate count rates since they perform global fit.  We will only focus on spectra/lightcurves here. In principle, these fluxes also allow to reconstruct the image better, though this is not easy to implement in OSA.\n",
    "\n",
    "Notably, in spectral-ligthcurve count rate extraction, the contamination fraction does not depend on source intensities.\n",
    "\n",
    "When source counts are distributed over multiple known sources, the situation may be more complex.\n",
    "``` \n",
    "\n",
    "\n",
    "\n",
    "\n",
    "## Building best input Catalog\n",
    "\n",
    "\n",
    "The good catalog also allows to produce image - so the process is iterative (image -> catalog -> image -> catalog ... -> catalog -> spectra/lc ). This is the major source of complexity for coded mask analysis (and not only, this applies for every instrument with complex PSF, e.g. Fermi/LAT, or SKA).\n",
    "\n",
    "\n",
    "General reference catalog is the best global catalog for INTEGRAL, but it is not time-dependent. \n",
    "Using only GENREFCAT one often has too many sources in a catalog, and would miss some sources which are only detectable in short outbursts.\n",
    "\n",
    "So, it is always advisable to produce an catalog for the observation of interest. INTEGRAL General Reference Catalog provides such a general model, with source fluxes indicated.\n",
    "But, this catalog is static, so it is not really possible to derive sufficiently accurate catalog for given period, considering that over long time, we know that the sources are variable.\n",
    "\n",
    "In the simplest case, when running spectral extraction directly in one ScW pipeline but it will only rely on the general reference catalog and imaging of this one ScW. This works at minimum, but this is not recommended even at the typical observer level.\n",
    "\n",
    "\n",
    "We'd need a time-dependent catalog with all sources accounted on all timescales from ScW at least to whole mission. To be clear, to account for all sources, it is necessary to have intermediate timescales (orbit, year, etc).\n",
    "But it should be clear that this is an enormous task, that's why so much effort goes in production of INTEGRAL catalog papers, and it was never done in an \"theoretically ideal\" way.\n",
    "The best approximations of this approach are used in different pipelines, used by us or other people.\n",
    "\n",
    "\n",
    "\n",
    "So a spectral/lc extraction has to rely on imaging made roughly for the same observation, adding computation.\n",
    "It also means that typical lightcurves are produced for a variety of effectively equivalent but slightly different catalogs, creating some duplicated lightcurves with slightly different provenance.\n",
    "\n",
    "With the data collection available now, we can provide the \"recommended good\" catalogs for spectral extraction at any time.\n",
    "\n",
    "This could be an extension of REFCAT but with indication of validity of the measurement. If put in a single catalog, it would have millions of rows. This is best handled in a relational DB.\n",
    "\n",
    "Ultimately, it is better to see the goal in designing a procedure for producing a catalog for given observation. The catalog can be built by querying the collection of available mosaics and providing the current best guess. The collection would have some 10k rows, and can be queried from an available store.\n",
    "\n",
    "* quality of reconstruction - detector and sky space residuals\n",
    "* and background properties"
   ]
  },
  {
   "cell_type": "code",
   "execution_count": 2,
   "metadata": {},
   "outputs": [
    {
     "data": {
      "text/plain": [
       "2410"
      ]
     },
     "execution_count": 2,
     "metadata": {},
     "output_type": "execute_result"
    }
   ],
   "source": [
    "# adopted from  https://renkulab.io/projects/vladimir.savchenko/integral-ref-cat/files/blob/catsearch.ipynb\n",
    "\n",
    "\n",
    "import numpy as np\n",
    "import astropy\n",
    "import astropy.coordinates\n",
    "\n",
    "cat = astropy.io.fits.open(\"http://isdcarc.unige.ch/arc/rev_3/cat/hec/gnrl_refr_cat_0043.fits\")\n",
    "cat_table = cat[1].data\n",
    "cat_coord = astropy.coordinates.SkyCoord(cat[1].data['RA_OBJ'], cat[1].data['DEC_OBJ'], unit='deg')\n",
    "\n",
    "len(cat_table)"
   ]
  },
  {
   "cell_type": "code",
   "execution_count": 42,
   "metadata": {},
   "outputs": [
    {
     "data": {
      "text/plain": [
       "<matplotlib.image.AxesImage at 0x7f95eaaac9d0>"
      ]
     },
     "execution_count": 42,
     "metadata": {},
     "output_type": "execute_result"
    },
    {
     "data": {
      "image/png": "[encoded data removed]",
      "text/plain": [
       "<Figure size 720x720 with 1 Axes>"
      ]
     },
     "metadata": {
      "needs_background": "light"
     },
     "output_type": "display_data"
    }
   ],
   "source": [
    "maskmod = astropy.io.fits.open(\"http://isdcarc.unige.ch/arc/rev_3/ic/ibis/mod/isgr_mask_mod_0004.fits\")\n",
    "\n",
    "from matplotlib import pylab as plt\n",
    "\n",
    "maskmap = maskmod[1].data\n",
    "\n",
    "def pif(src_i, src_j):\n",
    "    m = np.zeros_like(maskmap)\n",
    "    m[src_i:,src_j:] = maskmap[:m.shape[0] - src_i,:m.shape[1] - src_j]\n",
    "    # m[int(m.shape[0]/2-134/2/2):int(m.shape[0]/2+134/2/2), int(m.shape[1]/2-130/2/2):int(m.shape[1]/2+130/2/2)] += 1\n",
    "    return m #[int(m.shape[0]/2-134/2/2):int(m.shape[0]/2+134/2/2), int(m.shape[1]/2-130/2/2):int(m.shape[1]/2+130/2/2)]\n",
    "\n",
    "\n",
    "plt.figure(figsize=(10,10))\n",
    "\n",
    "deg_in_px = 15./80\n",
    "\n",
    "# plt.imshow(maskmap)\n",
    "# plt.imshow(pif(0, int(15/deg_in_px)) )\n",
    "# plt.imshow(pif(0,int(3/deg_in_px)) )\n",
    "plt.imshow(pif(30,40) + pif(40, 40) )"
   ]
  },
  {
   "cell_type": "code",
   "execution_count": 43,
   "metadata": {},
   "outputs": [
    {
     "data": {
      "text/plain": [
       "[<matplotlib.lines.Line2D at 0x7f95eaa12eb0>]"
      ]
     },
     "execution_count": 43,
     "metadata": {},
     "output_type": "execute_result"
    },
    {
     "data": {
      "image/png": "[encoded data removed]",
      "text/plain": [
       "<Figure size 432x288 with 1 Axes>"
      ]
     },
     "metadata": {
      "needs_background": "light"
     },
     "output_type": "display_data"
    }
   ],
   "source": [
    "c = []\n",
    "\n",
    "p1 = pif(0,0)\n",
    "\n",
    "for i in range(128):\n",
    "    p2 = pif(0,i)\n",
    "\n",
    "    c.append(np.sum(p1 * p2) / np.sum(p1**2))\n",
    "    \n",
    "plt.figure()\n",
    "\n",
    "plt.plot(c)"
   ]
  },
  {
   "cell_type": "code",
   "execution_count": 52,
   "metadata": {},
   "outputs": [
    {
     "name": "stdout",
     "output_type": "stream",
     "text": [
      "0 0 0 0.0001232624053955078\n"
     ]
    }
   ],
   "source": [
    "I, J = 0, 0\n",
    "C = 100\n",
    "Cm = 100\n",
    "B = 1000\n",
    "\n",
    "\n",
    "import time\n",
    "import scipy\n",
    "import scipy.stats\n",
    "\n",
    "def sky_model(i_j_counts, bkg_const):\n",
    "    model = np.zeros_like(pif(0,0)) + bkg_const\n",
    "\n",
    "    for i, j, c in i_j_counts:\n",
    "        model += c*pif(i, j)\n",
    "\n",
    "    return model\n",
    "\n",
    "def sky_realization(i_j_counts, bkg_const):    \n",
    "    return scipy.stats.poisson.rvs(sky_model(i_j_counts, bkg_const))\n",
    "\n",
    "def sky_reconstruction(i_j_counts, bkg_const, i_j_counts_model):\n",
    "    sky = sky_realization(i_j_counts, bkg_const)\n",
    "\n",
    "    def m2LL(reconstructed_counts):\n",
    "        # print(\"try\", reconstructed_counts)\n",
    "        return -2*np.sum(scipy.stats.poisson.logpmf(\n",
    "            sky,\n",
    "            sky_model([[i, j, r_c] for (i, j, c), r_c in zip(i_j_counts_model, reconstructed_counts[:-1])], \n",
    "                    reconstructed_counts[-1]),\n",
    "                      ))\n",
    "\n",
    "    return scipy.optimize.minimize(m2LL, [c for i, j, c in i_j_counts_model] + [bkg_const])\n",
    "            \n",
    "\n",
    "# plt.figure(figsize=(10, 10))\n",
    "\n",
    "# plt.imshow(sky_realization(\n",
    "#     [\n",
    "#         [0, 0, 100],\n",
    "#         [10, 10, 50]\n",
    "#     ],\n",
    "#     100\n",
    "# ))\n",
    "\n",
    "\n",
    "def missing_source_bias(i_j_counts, bkg_const):\n",
    "    normal = sky_reconstruction(i_j_counts, bkg_const, i_j_counts).x\n",
    "    biased = sky_reconstruction(i_j_counts, bkg_const, i_j_counts[:-1]).x\n",
    "    # print(r)\n",
    "    return biased[0]/normal[0], biased[1]/normal[1], normal[0]/i_j_counts[0][2], normal[1]/i_j_counts[1][2]\n",
    "\n",
    "width = 70\n",
    "\n",
    "scan = []\n",
    "plan = []\n",
    "\n",
    "# on-axis 50%\n",
    "# need to see corr for two off-set sources too\n",
    "# try map sources?\n",
    "# try cross-correlation to reproduce the effect\n",
    "\n",
    "for i in range(0, width):\n",
    "    for j in range(0, width):\n",
    "        plan.append([i, j])\n",
    "        # print(i, j)\n",
    "\n",
    "s = 100\n",
    "t0 = time.time()\n",
    "for n, (i, j) in enumerate(plan):        \n",
    "    p = int(100*n/len(plan))\n",
    "    if p%10 == 0 and s != p:\n",
    "        print(p, i, j, time.time() - t0)\n",
    "        s = p\n",
    "\n",
    "    scan.append([i, j, missing_source_bias(\n",
    "        [\n",
    "            [I, J, C],\n",
    "            [i, j, Cm]\n",
    "        ],\n",
    "        B,\n",
    "    )])\n",
    "    # scipy.stats.uniform.rvs(0, 1*width, size=100)]"
   ]
  },
  {
   "cell_type": "code",
   "execution_count": 56,
   "metadata": {},
   "outputs": [
    {
     "data": {
      "text/plain": [
       "[0,\n",
       " 0,\n",
       " (0.9540936896850734,\n",
       "  10.141357221461234,\n",
       "  1.0116471234785254,\n",
       "  1.0035637881055424)]"
      ]
     },
     "execution_count": 56,
     "metadata": {},
     "output_type": "execute_result"
    }
   ],
   "source": [
    "scan[0]"
   ]
  },
  {
   "cell_type": "code",
   "execution_count": 66,
   "metadata": {},
   "outputs": [
    {
     "name": "stdout",
     "output_type": "stream",
     "text": [
      "catalog-study/I60_J50_C100_Cm100_B1000.png\n"
     ]
    },
    {
     "data": {
      "image/png": "[encoded data removed]",
      "text/plain": [
       "<Figure size 864x360 with 2 Axes>"
      ]
     },
     "metadata": {
      "needs_background": "light"
     },
     "output_type": "display_data"
    }
   ],
   "source": [
    "\n",
    "tag = f\"I{I}_J{J}_C{C}_Cm{Cm}_B{B}\"\n",
    "base = \"catalog-study\"\n",
    "os.makedirs(base, exist_ok=True)\n",
    "\n",
    "\n",
    "f, (ax1, ax2) = plt.subplots(1, 2, figsize=(12, 5))\n",
    "\n",
    "ax1.scatter(\n",
    "    [i*deg_in_px for i, j, (b1, b2, b3, b4) in scan],\n",
    "    [j*deg_in_px for i, j, (b1, b2, b3, b4) in scan],\n",
    "    # [b1 for i, j, (b1, b2) in scan],\n",
    "    c=[b1 for i, j, (b1, b2, b3, b4) in scan],\n",
    ")\n",
    "\n",
    "ax1.set_xlabel(\"off-I deg\")\n",
    "ax1.set_ylabel(\"off-J deg\")\n",
    "\n",
    "ax2.scatter(\n",
    "    [i*deg_in_px for i, j, (b1, b2, b3, b4) in scan],\n",
    "    # [j for i, j, (b1, b2) in scan],\n",
    "    [b1 for i, j, (b1, b2, b3, b4) in scan],\n",
    "    c=[j for i, j, (b1, b2, b3, b4) in scan],\n",
    "    alpha=0.3,\n",
    "    label=\"1 source in the model\"\n",
    ")\n",
    "\n",
    "ax2.scatter(\n",
    "    [i*deg_in_px for i, j, (b1, b2, b3, b4) in scan],\n",
    "    # [j for i, j, (b1, b2) in scan],\n",
    "    [b3 for i, j, (b1, b2, b3, b4) in scan],\n",
    "    marker=\"x\",\n",
    "    alpha=0.2,\n",
    "    label=\"2 sources in the model\"\n",
    ")\n",
    "\n",
    "ax2.set_xlabel(\"off-I deg\")\n",
    "ax2.legend()\n",
    "\n",
    "ax1.set_title(f\"{tag}\")\n",
    "\n",
    "\n",
    "import json\n",
    "json.dump(scan, open(f\"{base}/{tag}.json\", \"w\"))\n",
    "\n",
    "fn_png = f\"{base}/{tag}.png\"\n",
    "plt.savefig(fn_png)\n",
    "print(fn_png)"
   ]
  }
 ],
 "metadata": {
  "kernelspec": {
   "display_name": "Python 3.9.5 ('base')",
   "language": "python",
   "name": "python3"
  },
  "language_info": {
   "codemirror_mode": {
    "name": "ipython",
    "version": 3
   },
   "file_extension": ".py",
   "mimetype": "text/x-python",
   "name": "python",
   "nbconvert_exporter": "python",
   "pygments_lexer": "ipython3",
   "version": "3.9.5"
  },
  "orig_nbformat": 4,
  "vscode": {
   "interpreter": {
    "hash": "1892832a55cb9b21d693a1e0afb7563f6ad424a1b7b3da21728b3ea0874fe733"
   }
  }
 },
 "nbformat": 4,
 "nbformat_minor": 2
}
