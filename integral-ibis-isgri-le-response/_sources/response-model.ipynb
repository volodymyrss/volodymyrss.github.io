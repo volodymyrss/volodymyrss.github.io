{
 "cells": [
  {
   "cell_type": "markdown",
   "metadata": {},
   "source": [
    "# Response model"
   ]
  },
  {
   "cell_type": "markdown",
   "metadata": {},
   "source": [
    "## Particle transport simulation (GEANT Mont-Carlo)\n",
    "\n",
    "### Multiple Events\n",
    " \n",
    "When two events trigger\n",
    "\n",
    "\n",
    "```{admonition} Click here!\n",
    ":class: tip, dropdown\n",
    "Here's what's inside!\n",
    "```\n",
    "\n",
    "```{admonition} Click here!\n",
    ":class: warning, dropdown\n",
    "Here's what's inside!\n",
    "```\n",
    "\n",
    "\n",
    "```{panels}\n",
    "header\n",
    "^^^\n",
    "body\n",
    "+++\n",
    "footer\n",
    "---\n",
    "header\n",
    "^^^\n",
    "body\n",
    "+++\n",
    "footer\n",
    "```\n",
    "\n",
    "```{epigraph}\n",
    "Here is a cool quotation.\n",
    "\n",
    "-- From me, Jo the Jovyan\n",
    "```\n",
    "\n",
    "```{tabbed} Tab 1 title\n",
    "My first tab\n",
    "```\n",
    "\n",
    "```{tabbed} Tab 2 title\n",
    "My second tab with `some code`!\n",
    "```\n",
    "\n",
    "\n",
    "Inline: {{ key1 }}\n",
    "\n",
    "Block level:\n",
    "\n",
    "{{ key2 }}"
   ]
  },
  {
   "cell_type": "markdown",
   "metadata": {},
   "source": [
    "## Electronics simulation\n",
    "\n",
    "```{mermaid}\n",
    "graph TD;\n",
    "    A-->B;\n",
    "    A-->C;\n",
    "    B-->D;\n",
    "    C-->D;\n",
    "```\n",
    "\n",
    "[^mylabel]: My footnote text."
   ]
  }
 ],
 "metadata": {
  "interpreter": {
   "hash": "bc60d120f3d0e3f977d308901027337ccc9d58184de7444d8a29f575b7b52057"
  },
  "kernelspec": {
   "display_name": "Python 3.9.6 64-bit ('3.9.6': pyenv)",
   "language": "python",
   "name": "python3"
  },
  "language_info": {
   "name": "python",
   "version": "3.9.6"
  },
  "orig_nbformat": 4
 },
 "nbformat": 4,
 "nbformat_minor": 2
}
