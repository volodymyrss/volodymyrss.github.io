{
 "cells": [
  {
   "cell_type": "code",
   "execution_count": 11,
   "metadata": {},
   "outputs": [
    {
     "name": "stdout",
     "output_type": "stream",
     "text": [
      "<ast.FunctionDef object at 0x7f15cfdd1370> get_cube_bins_anal\n",
      "<ast.FunctionDef object at 0x7f15d24836d0> get_cube_bins_table\n",
      "<ast.FunctionDef object at 0x7f15cfe94d00> produce_e_morph\n"
     ]
    },
    {
     "data": {
      "text/plain": [
       "31.041112588893554"
      ]
     },
     "execution_count": 11,
     "metadata": {},
     "output_type": "execute_result"
    }
   ],
   "source": [
    "import importlib\n",
    "from astropy.io import fits\n",
    "import numpy as np\n",
    "import sys\n",
    "import os\n",
    "sys.path.insert(0, os.path.join(os.getenv('HOME'), 'ogip'))\n",
    "sys.path.insert(0, '..')\n",
    "\n",
    "import ogip\n",
    "import ogip.tools\n",
    "import ogip.spec\n",
    "import iconfig\n",
    "\n",
    "ic_base = iconfig.settings.ic_base\n",
    "\n",
    "effi = fits.open(ic_base + '/ic/ibis/mod/isgr_effc_mod_0235.fits')[1].data[11]['EFFICIENCY']\n",
    "ebds = fits.open(ic_base + '/ic/ibis/rsp/isgr_ebds_mod_0001.fits')[1].data\n",
    "ce1, ce2 = ebds['E_MIN'], ebds['E_MAX']\n",
    "\n",
    "import matplotlib.pylab as plt\n",
    "import importlib\n",
    "\n",
    "# sys.path.insert(0, os.path.join(os.getcwd(), '../dda-ddosa'))\n",
    "# sys.path.insert(0, os.path.join(os.getcwd(), '../dda-eddosa'))\n",
    "# sys.path.insert(0, os.path.join(os.getcwd(), '../eddosa_tools/fit1d'))\n",
    "# sys.path.insert(0, os.path.join(os.getcwd(), '../dda-ddosa11calib'))\n",
    "# sys.path.insert(0, os.path.join(os.getcwd(), '../dda-ltdata'))\n",
    "# os.environ['COMMON_INTEGRAL_SOFTDIR'] = \"\"\n",
    "\n",
    "import ast\n",
    "mod_text = open(\"../dda-ddosa11calib/ddosa11calib.py\").read()\n",
    "mod = ast.parse(mod_text)\n",
    "\n",
    "produce_e_morph_def = None\n",
    "\n",
    "for i in mod.body:\n",
    "    if isinstance(i, ast.FunctionDef):\n",
    "        print(i, i.name)\n",
    "        if i.name == \"produce_e_morph\":\n",
    "            produce_e_morph_def = i\n",
    "            \n",
    "func_body = \"\\n\".join(mod_text.split('\\n')[produce_e_morph_def.lineno-1:produce_e_morph_def.end_lineno])\n",
    "open('produce_e_morph.py', 'w').write(\"\"\"\n",
    "import numpy as np\n",
    "\"\"\" + func_body)\n",
    "\n",
    "import produce_e_morph\n",
    "importlib.reload(produce_e_morph)\n",
    "\n",
    "emorph, _ = produce_e_morph.produce_e_morph(3000, 3001)\n",
    "# this time-dependent variable\n",
    "\n",
    "# emorph: ISGRI_ENERGY => ISGRI_ENERGY_EMORPH\n",
    "\n",
    "#TODO: compute spectrum with modiied RSP. compute spectrum with non-modified RSP. several time moments\n",
    "\n",
    "produce_e_morph.produce_e_morph(300, 301)[0](30) "
   ]
  }
 ],
 "metadata": {
  "interpreter": {
   "hash": "bc60d120f3d0e3f977d308901027337ccc9d58184de7444d8a29f575b7b52057"
  },
  "kernelspec": {
   "display_name": "Python 3.9.6 64-bit ('3.9.6': pyenv)",
   "language": "python",
   "name": "python3"
  },
  "language_info": {
   "codemirror_mode": {
    "name": "ipython",
    "version": 3
   },
   "file_extension": ".py",
   "mimetype": "text/x-python",
   "name": "python",
   "nbconvert_exporter": "python",
   "pygments_lexer": "ipython3",
   "version": "3.9.6"
  },
  "orig_nbformat": 4
 },
 "nbformat": 4,
 "nbformat_minor": 2
}
