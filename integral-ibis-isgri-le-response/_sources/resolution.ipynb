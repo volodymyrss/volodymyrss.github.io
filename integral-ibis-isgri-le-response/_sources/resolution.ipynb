{
 "cells": [
  {
   "cell_type": "code",
   "execution_count": null,
   "metadata": {},
   "outputs": [],
   "source": [
    "import numpy as np\n",
    "from scipy.ndimage import gaussian_filter1d as g1d\n",
    "from scipy.stats import norm\n",
    "import matplotlib.pylab as plt\n",
    "from scipy.interpolate import interp1d\n",
    "from matplotlib import cm\n"
   ]
  },
  {
   "cell_type": "markdown",
   "metadata": {},
   "source": [
    "# Resolution\n",
    "\n",
    "Observed high-energy line PH is dropping slower than low-energy line PH. This effect appears as the bipar line becoming more vertical. This change is very apparent, and leads to peculiar effects: \n",
    "\n",
    "* energy resolution for high RT, originally very poor, is improving with time. It is because the resolution is determined primarily by RT measurement uncertainty, and as the bipar line becomes vertical, RT uncertainty becomes irrelevant. \n",
    "* low-RT energy resolution is additionally degraded with time by the \"wiggle\" in the bipar track, associated with electron transport (see plots). \n",
    "* At some point (~2010?) energy resolution for high RT becomes superior to that for low RT. This results in characteristic change of the line shape: narrow core now corresponds to high RT and not low RT as it was in the beginning.\n"
   ]
  },
  {
   "cell_type": "markdown",
   "metadata": {},
   "source": [
    "#TODO vary offset, see reconstruction effects\n",
    "#TODO use d-function to match offset and V effects\n",
    "#TODO: compute resolution improvment and best line resolving power\n"
   ]
  },
  {
   "cell_type": "markdown",
   "metadata": {},
   "source": [
    "#TODO: deduce gain evolution just from the first line, assuming constant offset.\n",
    "\n",
    "See also a separate note on similar issue with energy resolution: model does not predict it sufficiently well. This effect is much easier to model that low-energy response centrality.\n"
   ]
  }
 ],
 "metadata": {
  "interpreter": {
   "hash": "bc60d120f3d0e3f977d308901027337ccc9d58184de7444d8a29f575b7b52057"
  },
  "kernelspec": {
   "display_name": "Python 3.9.6 64-bit ('3.9.6': pyenv)",
   "language": "python",
   "name": "python3"
  },
  "language_info": {
   "codemirror_mode": {
    "name": "ipython",
    "version": 3
   },
   "file_extension": ".py",
   "mimetype": "text/x-python",
   "name": "python",
   "nbconvert_exporter": "python",
   "pygments_lexer": "ipython3",
   "version": "3.9.6"
  },
  "orig_nbformat": 4
 },
 "nbformat": 4,
 "nbformat_minor": 2
}
