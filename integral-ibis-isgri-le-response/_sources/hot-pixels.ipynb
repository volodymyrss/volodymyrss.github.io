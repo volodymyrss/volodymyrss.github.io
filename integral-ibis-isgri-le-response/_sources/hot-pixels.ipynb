{
 "cells": [
  {
   "cell_type": "markdown",
   "metadata": {},
   "source": [
    "# Hot pixels handling\n",
    "\n",
    "LT is used to control hot pixels: restrict and kill\n",
    "\n",
    "Leftover hot pixels leaves a mask pattern in the image"
   ]
  }
 ],
 "metadata": {
  "language_info": {
   "name": "python"
  },
  "orig_nbformat": 4
 },
 "nbformat": 4,
 "nbformat_minor": 2
}
